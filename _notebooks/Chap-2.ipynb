{
 "cells": [
  {
   "cell_type": "markdown",
   "id": "armed-marks",
   "metadata": {},
   "source": [
    "# Chapter 2\n",
    "> Four motivating datasets\n",
    "\n",
    "- toc: true \n",
    "- badges: true\n",
    "- comments: true\n",
    "- author: Zeel Patel\n",
    "- categories: [GP]"
   ]
  },
  {
   "cell_type": "code",
   "execution_count": null,
   "id": "adult-alberta",
   "metadata": {},
   "outputs": [],
   "source": []
  }
 ],
 "metadata": {
  "kernelspec": {
   "display_name": "Python 3",
   "language": "python",
   "name": "python3"
  },
  "language_info": {
   "codemirror_mode": {
    "name": "ipython",
    "version": 3
   },
   "file_extension": ".py",
   "mimetype": "text/x-python",
   "name": "python",
   "nbconvert_exporter": "python",
   "pygments_lexer": "ipython3",
   "version": "3.8.5"
  }
 },
 "nbformat": 4,
 "nbformat_minor": 5
}
