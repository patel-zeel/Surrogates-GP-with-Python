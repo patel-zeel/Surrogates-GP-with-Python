{
 "cells": [
  {
   "cell_type": "markdown",
   "id": "helpful-plaza",
   "metadata": {},
   "source": [
    "# Surrogates - Chapter 1 Homework\n",
    "> A Python attempt to revise Surrogates GP book by Robert B. Gramacy\n",
    "\n",
    "- toc: true \n",
    "- badges: true\n",
    "- comments: true\n",
    "- author: Zeel Patel\n",
    "- categories: [GP]"
   ]
  },
  {
   "cell_type": "code",
   "execution_count": 6,
   "id": "sustained-palestine",
   "metadata": {},
   "outputs": [],
   "source": [
    "import pandas as pd\n",
    "from sklearn.linear_model import LinearRegression\n",
    "from sklearn.preprocessing import PolynomialFeatures"
   ]
  },
  {
   "cell_type": "markdown",
   "id": "enclosed-exposure",
   "metadata": {},
   "source": [
    "# 1: Regression\n",
    "\n",
    "The file [wire.csv](http://bobby.gramacy.com/surrogates/wire.csv) contains data relating the pull strength (pstren) of a wire bond (which we’ll treat as a response) to six characteristics which we shall treat as design variables: die height (dieh), post height (posth), loop height (looph), wire length (wlen), bond width on the die (diew), and bond width on the post (postw). (Derived from exercise 2.3 in Myers, Montgomery, and Anderson–Cook (2016) using data from Table E2.\n",
    "1. Write code that converts natural variables in the file to coded variables in the unit hypercube. Also, normalize responses to have a mean of zero and a range of 1.\n",
    "1. Use model selection techniques to select a parsimonious linear model for the coded data including, potentially, second-order and interaction effects.\n",
    "1. Use the fitted model to make a prediction for pull strength, when the explanatory variables take on the values c(6, 20, 30, 90, 2, 2), in the order above, with a full accounting of uncertainty. Make sure the predictive quantities are on the original scale of the data."
   ]
  },
  {
   "cell_type": "code",
   "execution_count": 7,
   "id": "specialized-scholar",
   "metadata": {},
   "outputs": [
    {
     "data": {
      "text/html": [
       "<div>\n",
       "<style scoped>\n",
       "    .dataframe tbody tr th:only-of-type {\n",
       "        vertical-align: middle;\n",
       "    }\n",
       "\n",
       "    .dataframe tbody tr th {\n",
       "        vertical-align: top;\n",
       "    }\n",
       "\n",
       "    .dataframe thead th {\n",
       "        text-align: right;\n",
       "    }\n",
       "</style>\n",
       "<table border=\"1\" class=\"dataframe\">\n",
       "  <thead>\n",
       "    <tr style=\"text-align: right;\">\n",
       "      <th></th>\n",
       "      <th>pstren</th>\n",
       "      <th>dieh</th>\n",
       "      <th>posth</th>\n",
       "      <th>looph</th>\n",
       "      <th>wlen</th>\n",
       "      <th>diew</th>\n",
       "      <th>postw</th>\n",
       "    </tr>\n",
       "  </thead>\n",
       "  <tbody>\n",
       "    <tr>\n",
       "      <th>0</th>\n",
       "      <td>8.0</td>\n",
       "      <td>5.2</td>\n",
       "      <td>19.6</td>\n",
       "      <td>29.6</td>\n",
       "      <td>94.9</td>\n",
       "      <td>2.1</td>\n",
       "      <td>2.3</td>\n",
       "    </tr>\n",
       "  </tbody>\n",
       "</table>\n",
       "</div>"
      ],
      "text/plain": [
       "   pstren   dieh   posth   looph   wlen   diew   postw \n",
       "0     8.0    5.2    19.6    29.6   94.9    2.1      2.3"
      ]
     },
     "execution_count": 7,
     "metadata": {},
     "output_type": "execute_result"
    }
   ],
   "source": [
    "wire_data = pd.read_csv('http://bobby.gramacy.com/surrogates/wire.csv')\n",
    "wire_data.head(1)"
   ]
  },
  {
   "cell_type": "code",
   "execution_count": null,
   "id": "native-dallas",
   "metadata": {},
   "outputs": [],
   "source": []
  }
 ],
 "metadata": {
  "kernelspec": {
   "display_name": "Python 3",
   "language": "python",
   "name": "python3"
  },
  "language_info": {
   "codemirror_mode": {
    "name": "ipython",
    "version": 3
   },
   "file_extension": ".py",
   "mimetype": "text/x-python",
   "name": "python",
   "nbconvert_exporter": "python",
   "pygments_lexer": "ipython3",
   "version": "3.8.5"
  }
 },
 "nbformat": 4,
 "nbformat_minor": 5
}
